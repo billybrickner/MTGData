{
 "cells": [
  {
   "cell_type": "code",
   "execution_count": 3,
   "id": "bigger-dependence",
   "metadata": {},
   "outputs": [
    {
     "name": "stderr",
     "output_type": "stream",
     "text": [
      "/usr/lib/python3/dist-packages/pyparsing.py:3190: FutureWarning: Possible set intersection at position 3\n",
      "  self.re = re.compile(self.reString)\n"
     ]
    }
   ],
   "source": [
    "import pandas as pd\n",
    "import numpy as np\n",
    "import matplotlib.pyplot as plt\n",
    "import autosklearn.classification\n",
    "from sklearn.model_selection import train_test_split\n",
    "from scipy import sparse\n",
    "from sklearn.preprocessing import OneHotEncoder"
   ]
  },
  {
   "cell_type": "code",
   "execution_count": null,
   "id": "static-narrative",
   "metadata": {},
   "outputs": [],
   "source": [
    "data = pd.read_csv('game_data_public.KHM.PremierDraft.csv')"
   ]
  },
  {
   "cell_type": "code",
   "execution_count": 31,
   "id": "adjustable-porcelain",
   "metadata": {},
   "outputs": [
    {
     "data": {
      "text/plain": [
       "Index(['deck_Absorb Identity', 'deck_Aegar, the Freezing Flame',\n",
       "       'deck_Alpine Meadow', 'deck_Alrund's Epiphany',\n",
       "       'deck_Alrund, God of the Cosmos', 'deck_Annul', 'deck_Arachnoform',\n",
       "       'deck_Arctic Treeline', 'deck_Armed and Armored',\n",
       "       'deck_Arni Brokenbrow',\n",
       "       ...\n",
       "       'deck_Vorinclex, Monstrous Raider', 'deck_Waking the Trolls',\n",
       "       'deck_Warchanter Skald', 'deck_Warhorn Blast',\n",
       "       'deck_Weathered Runestone', 'deck_Weigh Down',\n",
       "       'deck_Wings of the Cosmos', 'deck_Withercrown', 'deck_Woodland Chasm',\n",
       "       'deck_Youthful Valkyrie'],\n",
       "      dtype='object', length=311)"
      ]
     },
     "execution_count": 31,
     "metadata": {},
     "output_type": "execute_result"
    }
   ],
   "source": [
    "decks = data.loc[:,data.columns.str.contains(\"deck\")]\n",
    "decks = decks.drop(columns=['deck_Forest', 'deck_Island', 'deck_Mountain', 'deck_Plains',\n",
    "       'deck_Swamp','deck_Snow-Covered Forest', 'deck_Snow-Covered Island',\n",
    "       'deck_Snow-Covered Mountain','deck_Snow-Covered Swamp','deck_Snow-Covered Plains'])\n",
    "decks_long = decks\n",
    "decks.columns"
   ]
  },
  {
   "cell_type": "code",
   "execution_count": 7,
   "id": "threatened-bookmark",
   "metadata": {},
   "outputs": [],
   "source": [
    "cls = autosklearn.classification.AutoSklearnClassifier()\n"
   ]
  },
  {
   "cell_type": "code",
   "execution_count": null,
   "id": "dutch-region",
   "metadata": {},
   "outputs": [],
   "source": [
    "DATA_SIZE=100\n",
    "X = decks.loc[:DATA_SIZE]\n",
    "y = data.loc[:DATA_SIZE,\"won\"].to_numpy().astype(bool)\n",
    "X = np.array(X>0, dtype=short)\n",
    "X_train, X_test, y_train, y_test = train_test_split(X, y, test_size=0.33, random_state=42)\n",
    "cls.fit(X_train, y_train)"
   ]
  },
  {
   "cell_type": "code",
   "execution_count": null,
   "id": "engaging-johns",
   "metadata": {},
   "outputs": [],
   "source": []
  }
 ],
 "metadata": {
  "kernelspec": {
   "display_name": "Python 3",
   "language": "python",
   "name": "python3"
  },
  "language_info": {
   "codemirror_mode": {
    "name": "ipython",
    "version": 3
   },
   "file_extension": ".py",
   "mimetype": "text/x-python",
   "name": "python",
   "nbconvert_exporter": "python",
   "pygments_lexer": "ipython3",
   "version": "3.9.2"
  }
 },
 "nbformat": 4,
 "nbformat_minor": 5
}
