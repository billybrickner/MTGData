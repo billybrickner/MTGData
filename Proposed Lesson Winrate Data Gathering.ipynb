{
 "cells": [
  {
   "cell_type": "markdown",
   "id": "balanced-deadline",
   "metadata": {},
   "source": [
    "# Lesson Analysis\n",
    "\n",
    "In this notebook I will be going thorugh the proposal of a new lesson metric which aims to work similarly to ever in hand, but for lessons. To do this we will:\n",
    "\n",
    "1. Examine that the likelyhood of any lesson being drawn\n",
    "2. Show that the likelihood of any lesson being drawn is proportional to the amount of learn cards in the deck\n",
    "1. Estimate the winrate of lessons given the amount of learn cards in the deck\n",
    "1. Show that the winrate of lessons with learn in hand is comparable to winrate of decks with lessons in their sideboard."
   ]
  },
  {
   "attachments": {},
   "cell_type": "markdown",
   "id": "apart-gauge",
   "metadata": {},
   "source": [
    "## Measuring the Winrate of Situationally Good Cards\n",
    "The average winrate of a situational cards that start in your deck is currently best captured by \"Ever In Hand Winrate\" winrate metric. \"Ever In Hand Winrate\" is used over the \"Winrate When Cast\" because winrate when cast selects highly for cards that are situationally good like [Warhorn Blast](https://scryfall.com/card/khm/38/warhorn-blast) from KHM limited. [Warhorn Blast](https://scryfall.com/card/khm/38/warhorn-blast) is situationally good when you have a large board presenece/are the agressor. Players are more likely to cast it in games where you have lethal after casting it then in games where you are at parity or behind. To account for this \"Ever In Hand\" takes into account that situationally good cards should be measured when you have access to their effects and not when you cast the spell. \"Ever In Hand\" does this by only taking into account the winrate of cards that you have the opportunity to cast, not whether they were cast. This is important because it is our best guess at how good a card is on average. \"Ever In Hanhd\" estimates the average winrate of a card by taking the winrates of games where situationally good cards are good and averaging them into games where the card is either not as good, or perhaps even has no targets. The weighting of these scenarios is naturally the probability that they occur by virtue of looking at all the games where a player had access to the effect because the situations where a card is good will naturally occur at the rate they they are probable to happen."
   ]
  },
  {
   "cell_type": "markdown",
   "id": "expensive-enhancement",
   "metadata": {},
   "source": [
    "## Proposed Replacement for Lessons being drawn \n",
    "Currently only looking at \"Ever In Hand\" has a similar effect to \"Winrate When Cast\" because it biased towards situationally good cards. For lessons \"Ever In Hand\" is biased towards situationally good lessons because on average lessons will be fetched when they are good. When a lesson is not good a caster has the option to draw a random card over a lesson. To remedy this, we need a winrate which takes into account the situations where a lesson is good. To do this, I am proposing that we look at the winrate of lessons when a learn card is drawn. "
   ]
  },
  {
   "cell_type": "code",
   "execution_count": 1,
   "id": "pacific-victorian",
   "metadata": {},
   "outputs": [],
   "source": [
    "import pandas as pd\n",
    "import numpy as np\n",
    "import matplotlib.pyplot as plt\n",
    "# Get hypergeometric coefficients\n",
    "import scipy.stats as ss"
   ]
  },
  {
   "cell_type": "code",
   "execution_count": 2,
   "id": "metropolitan-armenia",
   "metadata": {},
   "outputs": [],
   "source": [
    "'''\n",
    "Utility functions\n",
    "\n",
    "Functions that are used throughout the notebook are put here to try to reduce clutter in later analysis\n",
    "'''\n",
    "# Game data from https://www.17lands.com/public_datasets\n",
    "game_data_filename = 'game_data_public.STX.Sealed.csv'\n",
    "# STX Lessons retreived with the scryfall API\n",
    "stx_lessons = pd.read_csv(\"stx_lesson.csv\")\n",
    "# STX Cards with learn retreived with the scryfall API\n",
    "stx_learn = pd.read_csv(\"stx_learn.csv\")\n",
    "\n",
    "\n",
    "#####################################################################################################\n",
    "# Get list of card names\n",
    "#\n",
    "# \\param[in] df     The data you are getting the card names from\n",
    "# \\param[in] prefix An optional prefix to prepend to the card names \n",
    "#\n",
    "# \\return A list of card names\n",
    "def get_card_name_list(df, prefix=\"\"):\n",
    "    cards = [prefix+col.replace(\"deck_\",\"\") for col in df.columns if 'deck' in col]\n",
    "    return cards\n",
    "\n",
    "#####################################################################################################\n",
    "# Add columns to track the winrate of each card\n",
    "#\n",
    "# \\param[in] df The data to add a column to\n",
    "#\n",
    "# \\return The data with columns added to track the winrate of each card\n",
    "def add_col_winrate_when_in_hand(df):\n",
    "    # Generate list for new column names\n",
    "    in_hand = get_card_name_list(df,\"in_hand_\")\n",
    "    # Add the cards that are either drawn or in opening hand\n",
    "    df[in_hand] = \\\n",
    "        df[get_card_name_list(df,\"drawn_\")].to_numpy() \\\n",
    "        + df[get_card_name_list(df,\"opening_hand_\")].to_numpy()\n",
    "    # Flatten the data to only detect if the card was drawn and not care about quantity\n",
    "    df[in_hand] = df[in_hand] > 0\n",
    "    # Convert to Int\n",
    "    df[in_hand] = df[in_hand].to_numpy(dtype=int)\n",
    "    # Store win/loss for each game\n",
    "    # Storing the data in an additional column helps when we aggregate the data in a later step by\n",
    "    # accumulating it in a column as opposed to a local variable\n",
    "    ihw = get_card_name_list(df,\"ihw_\")\n",
    "    df[ihw] = df[in_hand].mul(df[\"won\"],axis=0)\n",
    "    return df\n",
    "\n",
    "#####################################################################################################\n",
    "# This function returns an iterator with a batch of data. Batching makes intermittent steps easier to\n",
    "# examine for correctness and also allows for a \"loading bar\" to post incremental progress\n",
    "#\n",
    "# \\param[in] chunksize - Size of the chunk of data to process. Optional with default 2000\n",
    "#\n",
    "# \\return dataiter - an iterator that returns data frames containing batches of cards \n",
    "def get_data_iter(chunksize = 2000):\n",
    "    data_iter = pd.read_csv(game_data_filename,chunksize=chunksize)\n",
    "    data = next(data_iter)\n",
    "    data.columns = [column.lower() for column in data.columns]\n",
    "    # Filter by columns that we are performing calculations on\n",
    "    filtered_columns = sum([ \\\n",
    "                    get_card_name_list(data,\"deck_\"),\n",
    "                    get_card_name_list(data,\"opening_hand_\"),\n",
    "                    get_card_name_list(data,\"drawn_\"),\n",
    "                    get_card_name_list(data,\"sideboard_\"),\n",
    "                    [\"won\",\"num_turns\"]\n",
    "                   ], [])\n",
    "    data = data[filtered_columns]\n",
    "    data = add_col_winrate_when_in_hand(data)\n",
    "    yield data\n",
    "    for data in data_iter:\n",
    "        data.columns = [column.lower() for column in data.columns]\n",
    "        data = data[filtered_columns]\n",
    "        data = add_col_winrate_when_in_hand(data)\n",
    "        yield data\n",
    "\n",
    "#####################################################################################################\n",
    "# Get table for expected probability for the game to end on turn N with a card in hand, given that\n",
    "# you have M copies of the card in your deck\n",
    "# \n",
    "# Acessing the table:\n",
    "# Note: turns_df has to have a column named num_games which has the relative frequency of games that\n",
    "# end on turn N\n",
    "# ---------------------------------\n",
    "# expected_drawn = get_expected_drawn_table(turns_df) \n",
    "# expected_drawn[M][N]\n",
    "# M - Number of copies in deck\n",
    "# N - Number of turns when the game ended\n",
    "#\n",
    "# \\param[in] turns_df      The turn data with an expected column \"num_games\" which has the\n",
    "#                          distrubtion of games which ended on turn N\n",
    "# \\param[in] cards_in_deck The number of cards in a deck. Default 40.\n",
    "# \\param[in] starting_hand The number of cards in your starting hand. Default 7.\n",
    "#\n",
    "# \\return An expected probability table with columns labeled with the number of copies of a card in\n",
    "#         the deck and the rows labeled with the number of turns\n",
    "def get_expected_drawn_table(turns_df, cards_in_deck=40, starting_hand=7):\n",
    "    # Game ends when you draw your deck on average\n",
    "    max_turns = cards_in_deck - starting_hand\n",
    "    # Game ends when you \n",
    "    max_copies = cards_in_deck\n",
    "    turn_dist = pd.DataFrame(np.zeros(max_turns), index=range(1,max_turns+1), columns=[\"turn_dist\"])\n",
    "    turn_dist[\"turn_dist\"] = turn_dist[\"turn_dist\"].add(turns_df[\"num_games\"], fill_value=0)\n",
    "    turn_dist = turn_dist[\"turn_dist\"]/sum(turn_dist[\"turn_dist\"])\n",
    "    expected_drawn = pd.DataFrame()\n",
    "    # Set to zero to zero to compensate for floating point error with calculations\n",
    "    expected_drawn[0] = turn_dist*np.zeros(max_turns)\n",
    "    # Coefficients of the hypergeometric distribution\n",
    "    # Hypergeometric distribution is the likelyhood you draw\n",
    "    # N copies of a card with M chances\n",
    "    # Iterate over copies and turns\n",
    "    for copies in range(1, max_copies+1):\n",
    "        expected_drawn_N_copies = []\n",
    "        for turns in range(1,max_turns+1):\n",
    "            # We are assuming that on average cards drawn on turn M is M + starting_hand\n",
    "            cards_drawn = turns + starting_hand\n",
    "            hgd = ss.hypergeom(cards_in_deck,  copies, cards_drawn)\n",
    "            # The probability of drawing any copies is one minus the probability of drawing zero\n",
    "            expected_drawn_N_copies.append(1-hgd.pmf(0))\n",
    "        expected_drawn_N_copies = turn_dist*expected_drawn_N_copies\n",
    "        expected_drawn_N_copies = expected_drawn_N_copies/sum(expected_drawn_N_copies)\n",
    "        expected_drawn[copies] = expected_drawn_N_copies\n",
    "    return expected_drawn"
   ]
  },
  {
   "cell_type": "code",
   "execution_count": 3,
   "id": "architectural-traffic",
   "metadata": {},
   "outputs": [
    {
     "name": "stdout",
     "output_type": "stream",
     "text": [
      "0 1 2 3 4 5 6 7 8 9 10 11 12 13 14 15 16 17 18 19 20 21 22 23 "
     ]
    }
   ],
   "source": [
    "'''\n",
    "Raw Calculations\n",
    "\n",
    "Calculate the likelyhood of drawing a card with learn. \n",
    "Calculate the likelyhoood of drawing a lesson.\n",
    "'''\n",
    "# Group the data by number of turns\n",
    "# Add a num_games column to track the number of games that took a particular length\n",
    "def group_num_turns(df):\n",
    "    df[\"num_games\"] = 1\n",
    "    df = df.groupby(by=\"num_turns\").sum()\n",
    "    return df\n",
    "\n",
    "data_iter = get_data_iter()\n",
    "data_grouped_by_turn_count = next(data_iter)\n",
    "data_grouped_by_turn_count = group_num_turns(data_grouped_by_turn_count)\n",
    "# Used to track progress\n",
    "counter = 0\n",
    "for batch in data_iter:\n",
    "    print(counter,end=\" \")\n",
    "    batch = group_num_turns(batch)\n",
    "    data_grouped_by_turn_count = data_grouped_by_turn_count.add(batch,fill_value=0)\n",
    "    counter += 1"
   ]
  },
  {
   "cell_type": "code",
   "execution_count": 4,
   "id": "planned-variable",
   "metadata": {},
   "outputs": [
    {
     "data": {
      "image/png": "[encoded data removed]",
      "text/plain": [
       "<Figure size 432x288 with 1 Axes>"
      ]
     },
     "metadata": {
      "needs_background": "light"
     },
     "output_type": "display_data"
    }
   ],
   "source": [
    "plt.plot(data_grouped_by_turn_count[\"num_games\"])\n",
    "plt.xlabel('Turn Number Game Ended On')\n",
    "plt.ylabel('Total Number of Games')\n",
    "plt.title(\"Number of Turns in a Game Frequency Plot\")\n",
    "plt.show()"
   ]
  },
  {
   "cell_type": "markdown",
   "id": "plain-account",
   "metadata": {},
   "source": [
    "# Showing The Likelyhood of drawing a lesson\n",
    "We theorize that the likelyhood of drawing a lesson is similar to the likelyhood of drawing any card with learn because you use learn cards to search for a lesson. To show this we are going to plot the sampled likelyhood of drawing a lesson for games that end on turn N with the sampled lieklyhood that you drew a learn card for games that ended on turn N."
   ]
  },
  {
   "cell_type": "code",
   "execution_count": 5,
   "id": "quarterly-suffering",
   "metadata": {},
   "outputs": [
    {
     "data": {
      "image/png": "[encoded data removed]",
      "text/plain": [
       "<Figure size 432x288 with 1 Axes>"
      ]
     },
     "metadata": {
      "needs_background": "light"
     },
     "output_type": "display_data"
    }
   ],
   "source": [
    "# Expected Turn Frequency of data\n",
    "turn_freq = data_grouped_by_turn_count[\"num_games\"]\n",
    "turn_freq = turn_freq/(turn_freq.sum())\n",
    "\n",
    "# plot draw rates of lessons\n",
    "lessons = data_grouped_by_turn_count[\"in_hand_\"+stx_lessons[\"name\"]]\n",
    "lessons = lessons.sum(axis=1)\n",
    "lessons = lessons/turn_freq # Scale based on frequency of games ending on turn N\n",
    "lessons_plot = plt.plot(lessons, label='lessons')\n",
    "\n",
    "# plot draw rates of learn cards\n",
    "learn = data_grouped_by_turn_count[\"in_hand_\"+stx_learn[\"name\"]]\n",
    "learn = learn.sum(axis=1)\n",
    "learn = learn/turn_freq #Scale based on frequency of games ending on turn N\n",
    "learn_plot = plt.plot(learn, label='learn')\n",
    "\n",
    "plt.xlabel('Turn')\n",
    "plt.ylabel('Total Count in Hand')\n",
    "plt.title(\"Learn/Lesson Frequency Plot\")\n",
    "plt.legend()\n",
    "plt.show()"
   ]
  },
  {
   "cell_type": "markdown",
   "id": "stuck-undergraduate",
   "metadata": {},
   "source": [
    "# Compare \"Learn Drawn \"to \"Lessons Drawn\"\n",
    "Now that we have the rate at which lessons and learn occur in games, we will plot the error of the estimate below. What we can see is that \"learn drawn\" slightly over represents \"lessons drawn\" in the early game, but as the number of turns increases the error gets smaller. This is because learn cards draw a lesson when they are cast. The underestimation of lessons by learn in the late game is probably due to lessons in deck or recursion in the format, but is <0.2% difference by inspection with the caviat that there is less data from games >20 turns so the variance is wider."
   ]
  },
  {
   "cell_type": "code",
   "execution_count": 6,
   "id": "dried-singer",
   "metadata": {},
   "outputs": [
    {
     "data": {
      "image/png": "[encoded data removed]",
      "text/plain": [
       "<Figure size 432x288 with 1 Axes>"
      ]
     },
     "metadata": {
      "needs_background": "light"
     },
     "output_type": "display_data"
    },
    {
     "data": {
      "text/plain": [
       "num_turns\n",
       "1     0.954545\n",
       "2     0.750000\n",
       "3     0.529412\n",
       "4     0.514706\n",
       "5     0.455319\n",
       "6     0.349733\n",
       "7     0.243183\n",
       "8     0.149787\n",
       "9     0.089831\n",
       "10    0.035977\n",
       "11    0.017675\n",
       "12   -0.013975\n",
       "13   -0.029329\n",
       "14   -0.057320\n",
       "15   -0.075479\n",
       "16   -0.068267\n",
       "17   -0.090983\n",
       "18   -0.104418\n",
       "19   -0.100145\n",
       "20   -0.144578\n",
       "21   -0.046272\n",
       "22   -0.103139\n",
       "23   -0.071429\n",
       "24   -0.144144\n",
       "25   -0.158730\n",
       "26   -0.142857\n",
       "27   -0.111111\n",
       "28    0.062500\n",
       "29   -0.285714\n",
       "30   -0.187500\n",
       "31    0.000000\n",
       "dtype: float64"
      ]
     },
     "execution_count": 6,
     "metadata": {},
     "output_type": "execute_result"
    }
   ],
   "source": [
    "# Plot difference\n",
    "compare = (learn-lessons)/(learn)\n",
    "plt.plot(compare)\n",
    "plt.plot(np.zeros(len(compare)))\n",
    "\n",
    "plt.xlabel('Turn Number')\n",
    "plt.ylabel('Percent Error')\n",
    "plt.title(\"Percent learn cards Overrepresent Lessons Drawn\")\n",
    "plt.show()\n",
    "compare"
   ]
  },
  {
   "cell_type": "markdown",
   "id": "irish-individual",
   "metadata": {},
   "source": [
    "# Estimate the winrate of lessons\n",
    "In this section we will estimate the winrate of each lesson by looking at the winrate of decks with the lesson in the sideboard which drew a card with learn."
   ]
  },
  {
   "cell_type": "code",
   "execution_count": 7,
   "id": "express-nelson",
   "metadata": {},
   "outputs": [],
   "source": [
    "# Table of expected rate of drawing a card given you have n copies of the card and it's turn n\n",
    "expected_drawn = get_expected_drawn_table(data_grouped_by_turn_count)"
   ]
  },
  {
   "cell_type": "code",
   "execution_count": 8,
   "id": "sixth-cuisine",
   "metadata": {},
   "outputs": [
    {
     "name": "stdout",
     "output_type": "stream",
     "text": [
      "0 1 2 3 4 5 6 7 8 9 10 11 12 13 14 15 16 17 18 19 20 21 22 23 "
     ]
    }
   ],
   "source": [
    "'''\n",
    "Raw Calculations\n",
    "\n",
    "Calculate the likelyhood of winning with a card in sideboard\n",
    "Calculate the likelyhoood of winning with a card in sideboard, weighting it based on the number of learn cards in deck\n",
    "'''\n",
    "def add_lessons_columns(df): \n",
    "    # Add column for winrate given the lesson was in the sb\n",
    "    df[\"lesson_sb_\"+stx_lessons[\"name\"]] = (df[\"sideboard_\" + stx_lessons[\"name\"]]>0).to_numpy(dtype=int)\n",
    "    df[\"lesson_sb_won_\"+stx_lessons[\"name\"]] = df[\"lesson_sb_\"+stx_lessons[\"name\"]].mul(df[\"won\"],axis=0)\n",
    "    # Add columns for winrate given the lesson was in the sideboard and you drew the card with learn\n",
    "    learn= df[\"in_hand_\"+stx_learn[\"name\"]]\n",
    "    df[\"learn_drawn\"] = learn.sum(axis=1)\n",
    "    # Weight each sample based on the likelyhood that the game ended on turn N given that you had \"learn_drawn\"\n",
    "    # number of learn cards using hypergeomteric distribution and the sampled turn length data\n",
    "    df[\"learn_weight\"] = [expected_drawn[x][y] for x,y in zip(df[\"learn_drawn\"],df[\"num_turns\"])]\n",
    "    df[\"lessons_weighted_\" + stx_lessons[\"name\"]] =  df[\"lesson_sb_\"+stx_lessons[\"name\"]].mul(df[\"learn_weight\"],axis=0)\n",
    "    df[\"lessons_weighted_won_\" + stx_lessons[\"name\"]] = df[\"lessons_weighted_\" + stx_lessons[\"name\"]].mul(df[\"won\"],axis=0)\n",
    "    return df\n",
    "\n",
    "\n",
    "data_iter = get_data_iter()\n",
    "lesson_winrate = next(data_iter)\n",
    "lesson_winrate = add_lessons_columns(lesson_winrate)\n",
    "lesson_winrate = lesson_winrate.sum()\n",
    "counter = 0\n",
    "for batch in data_iter:\n",
    "    print(counter,end=\" \")\n",
    "    batch = add_lessons_columns(batch)\n",
    "    batch = batch.sum()\n",
    "    lesson_winrate = lesson_winrate.add(batch, fill_value=0)\n",
    "    counter += 1"
   ]
  },
  {
   "cell_type": "markdown",
   "id": "offshore-weekend",
   "metadata": {},
   "source": [
    "# Correlation of \"Lesson in Sideboard\" to \"Ever Drawn Learn Card\" for Lessons\n",
    "Here we show that the winrate of lessons in the sideboard is correlated to the winrate of decks with the same lesson cards in the sideboard. This is a strong indication that our proposed metric is correct since sb is unbiased towards cards that are situationally good."
   ]
  },
  {
   "cell_type": "code",
   "execution_count": 9,
   "id": "adopted-alcohol",
   "metadata": {},
   "outputs": [
    {
     "data": {
      "image/png": "[encoded data removed]",
      "text/plain": [
       "<Figure size 432x288 with 1 Axes>"
      ]
     },
     "metadata": {
      "needs_background": "light"
     },
     "output_type": "display_data"
    }
   ],
   "source": [
    "first_cn = \"environmental sciences\"\n",
    "last_cn = \"basic conjuration\"\n",
    "\n",
    "# Calculate the winrate of cards of decks with lesson cards in the sideboard\n",
    "sb_played = lesson_winrate.loc[\"lesson_sb_\"+first_cn:\"lesson_sb_\"+last_cn].to_numpy()\n",
    "sb_won = lesson_winrate.loc[\"lesson_sb_won_\"+first_cn:\"lesson_sb_won_\"+last_cn].to_numpy()\n",
    "sb_winrate = sb_won/(sb_played + 0.0000001) # DEBUG: Divide by Zero Error\n",
    "\n",
    "# Calculate the winrate of games where a learn card was drawn and there was a lesson in the sb\n",
    "weighted_played = lesson_winrate.loc[\"lessons_weighted_\"+first_cn:\"lessons_weighted_\"+last_cn].to_numpy()\n",
    "weighted_won = lesson_winrate.loc[\"lessons_weighted_won_\"+first_cn:\"lessons_weighted_won_\"+last_cn].to_numpy()\n",
    "weighted_winrate = weighted_won/(weighted_played + 0.0000001) # DEBUG: Divide by Zero Error\n",
    "\n",
    "plt.scatter(sb_winrate, weighted_winrate)\n",
    "# Y=X For reference\n",
    "plt.plot(np.linspace(0.5,0.7,200),np.linspace(0.5,0.7,200), color='green' )\n",
    "plt.xlabel('Card In Sideboard Winrate')\n",
    "plt.ylabel('Learn Drawn Winrate')\n",
    "plt.title(\"Correlation of SB Winrate To Learn Drawn Winrate For Lessons\")\n",
    "plt.show()"
   ]
  },
  {
   "cell_type": "code",
   "execution_count": 10,
   "id": "egyptian-script",
   "metadata": {},
   "outputs": [
    {
     "data": {
      "text/html": [
       "<div>\n",
       "<style scoped>\n",
       "    .dataframe tbody tr th:only-of-type {\n",
       "        vertical-align: middle;\n",
       "    }\n",
       "\n",
       "    .dataframe tbody tr th {\n",
       "        vertical-align: top;\n",
       "    }\n",
       "\n",
       "    .dataframe thead th {\n",
       "        text-align: right;\n",
       "    }\n",
       "</style>\n",
       "<table border=\"1\" class=\"dataframe\">\n",
       "  <thead>\n",
       "    <tr style=\"text-align: right;\">\n",
       "      <th></th>\n",
       "      <th>sb_winrate</th>\n",
       "      <th>weighted_winrate</th>\n",
       "    </tr>\n",
       "    <tr>\n",
       "      <th>name</th>\n",
       "      <th></th>\n",
       "      <th></th>\n",
       "    </tr>\n",
       "  </thead>\n",
       "  <tbody>\n",
       "    <tr>\n",
       "      <th>environmental sciences</th>\n",
       "      <td>0.557820</td>\n",
       "      <td>0.581813</td>\n",
       "    </tr>\n",
       "    <tr>\n",
       "      <th>expanded anatomy</th>\n",
       "      <td>0.551147</td>\n",
       "      <td>0.575871</td>\n",
       "    </tr>\n",
       "    <tr>\n",
       "      <th>containment breach</th>\n",
       "      <td>0.533482</td>\n",
       "      <td>0.552922</td>\n",
       "    </tr>\n",
       "    <tr>\n",
       "      <th>mercurial transformation</th>\n",
       "      <td>0.548585</td>\n",
       "      <td>0.571275</td>\n",
       "    </tr>\n",
       "    <tr>\n",
       "      <th>confront the past</th>\n",
       "      <td>0.540735</td>\n",
       "      <td>0.570010</td>\n",
       "    </tr>\n",
       "    <tr>\n",
       "      <th>spirit summoning</th>\n",
       "      <td>0.552007</td>\n",
       "      <td>0.573550</td>\n",
       "    </tr>\n",
       "    <tr>\n",
       "      <th>elemental summoning</th>\n",
       "      <td>0.549649</td>\n",
       "      <td>0.567913</td>\n",
       "    </tr>\n",
       "    <tr>\n",
       "      <th>reduce to memory</th>\n",
       "      <td>0.548583</td>\n",
       "      <td>0.567830</td>\n",
       "    </tr>\n",
       "    <tr>\n",
       "      <th>pest summoning</th>\n",
       "      <td>0.552110</td>\n",
       "      <td>0.573144</td>\n",
       "    </tr>\n",
       "    <tr>\n",
       "      <th>start from scratch</th>\n",
       "      <td>0.544238</td>\n",
       "      <td>0.566537</td>\n",
       "    </tr>\n",
       "    <tr>\n",
       "      <th>introduction to prophecy</th>\n",
       "      <td>0.551160</td>\n",
       "      <td>0.572116</td>\n",
       "    </tr>\n",
       "    <tr>\n",
       "      <th>inkling summoning</th>\n",
       "      <td>0.553384</td>\n",
       "      <td>0.574669</td>\n",
       "    </tr>\n",
       "    <tr>\n",
       "      <th>fractal summoning</th>\n",
       "      <td>0.554258</td>\n",
       "      <td>0.574673</td>\n",
       "    </tr>\n",
       "    <tr>\n",
       "      <th>illuminate history</th>\n",
       "      <td>0.548528</td>\n",
       "      <td>0.570015</td>\n",
       "    </tr>\n",
       "    <tr>\n",
       "      <th>mascot exhibition</th>\n",
       "      <td>0.624158</td>\n",
       "      <td>0.659051</td>\n",
       "    </tr>\n",
       "    <tr>\n",
       "      <th>teachings of the archaics</th>\n",
       "      <td>0.551987</td>\n",
       "      <td>0.585867</td>\n",
       "    </tr>\n",
       "    <tr>\n",
       "      <th>academic probation</th>\n",
       "      <td>0.536339</td>\n",
       "      <td>0.549018</td>\n",
       "    </tr>\n",
       "    <tr>\n",
       "      <th>introduction to annihilation</th>\n",
       "      <td>0.552426</td>\n",
       "      <td>0.575251</td>\n",
       "    </tr>\n",
       "    <tr>\n",
       "      <th>necrotic fumes</th>\n",
       "      <td>0.552570</td>\n",
       "      <td>0.571666</td>\n",
       "    </tr>\n",
       "    <tr>\n",
       "      <th>basic conjuration</th>\n",
       "      <td>0.539007</td>\n",
       "      <td>0.560242</td>\n",
       "    </tr>\n",
       "  </tbody>\n",
       "</table>\n",
       "</div>"
      ],
      "text/plain": [
       "                              sb_winrate  weighted_winrate\n",
       "name                                                      \n",
       "environmental sciences          0.557820          0.581813\n",
       "expanded anatomy                0.551147          0.575871\n",
       "containment breach              0.533482          0.552922\n",
       "mercurial transformation        0.548585          0.571275\n",
       "confront the past               0.540735          0.570010\n",
       "spirit summoning                0.552007          0.573550\n",
       "elemental summoning             0.549649          0.567913\n",
       "reduce to memory                0.548583          0.567830\n",
       "pest summoning                  0.552110          0.573144\n",
       "start from scratch              0.544238          0.566537\n",
       "introduction to prophecy        0.551160          0.572116\n",
       "inkling summoning               0.553384          0.574669\n",
       "fractal summoning               0.554258          0.574673\n",
       "illuminate history              0.548528          0.570015\n",
       "mascot exhibition               0.624158          0.659051\n",
       "teachings of the archaics       0.551987          0.585867\n",
       "academic probation              0.536339          0.549018\n",
       "introduction to annihilation    0.552426          0.575251\n",
       "necrotic fumes                  0.552570          0.571666\n",
       "basic conjuration               0.539007          0.560242"
      ]
     },
     "execution_count": 10,
     "metadata": {},
     "output_type": "execute_result"
    }
   ],
   "source": [
    "# Show the data in a table\n",
    "a = np.array([sb_winrate.T, weighted_winrate])\n",
    "winrates = pd.DataFrame( \n",
    "                        data=a.T,\n",
    "                        columns=[\"sb_winrate\", \"weighted_winrate\"],\n",
    "                        index=stx_lessons[\"name\"])\n",
    "winrates.sort_values(\"weighted_winrate\",ascending=False)\n",
    "winrates\n"
   ]
  }
 ],
 "metadata": {
  "kernelspec": {
   "display_name": "Python 3",
   "language": "python",
   "name": "python3"
  },
  "language_info": {
   "codemirror_mode": {
    "name": "ipython",
    "version": 3
   },
   "file_extension": ".py",
   "mimetype": "text/x-python",
   "name": "python",
   "nbconvert_exporter": "python",
   "pygments_lexer": "ipython3",
   "version": "3.9.2"
  }
 },
 "nbformat": 4,
 "nbformat_minor": 5
}
